{
 "cells": [
  {
   "cell_type": "markdown",
   "id": "06bee71b-550e-4e63-8657-8c6259567489",
   "metadata": {},
   "source": [
    "# create_newcase"
   ]
  },
  {
   "cell_type": "markdown",
   "id": "cf24c264-c8c4-4f2e-9f1d-e837b2447b49",
   "metadata": {},
   "source": [
    "The tool that generates a new case is `create_newcase`. In the CESM jargon, a case is a simulation. \n",
    "\n",
    "The `create_newcase` command is located in `$CESMROOT/cime/scripts`\n",
    "\n",
    "You can go to that directory using the command:\n",
    "```\n",
    "cd $CESMROOT/cime/scripts\n",
    "```\n",
    "\n",
    "The figure blow shows the location of the command `create newcase` within the CESM code. \n",
    "\n",
    "---\n",
    "![create_newcase](../../images/cesm_structure_before_create_newcase.png)\n",
    "*<p style=\"text-align: center;\"> Figure: CESM structure and the create_newcase command</p>*\n",
    "\n",
    "---"
   ]
  },
  {
   "cell_type": "markdown",
   "id": "7c54ae6f-3102-4bd4-a88f-af08acd7395f",
   "metadata": {
    "tags": []
   },
   "source": [
    "## Syntax of create_newcase\n",
    "\n",
    "The `create_newcase` command has three required inputs (and other optional inputs). \n",
    "\n",
    "The required inputs are\n",
    "- `case`: the name and directory path of your case \n",
    "\n",
    "e.g., setting case to `∼/cases/case01` will make a simulation called `case01` and it will be located in `∼/case`\n",
    "- `compset`: the CESM component set that you’d like to use. \n",
    "\n",
    "See https://docs.cesm.ucar.edu/models/cesm2/config/compsets.html for a list of pre-defined compsets.  \n",
    "\n",
    "Note that here we will be using the compset ”B1850-tutorial” which has been specially developed for the purposes of this tutorial - it is not available within the CESM2 release.\n",
    "\n",
    "- `res`: the resolution that you’d like to use.\n"
   ]
  },
  {
   "cell_type": "markdown",
   "id": "8d33e03e-434d-4182-80b5-cb33f7fa51fd",
   "metadata": {},
   "source": [
    "The syntax for the create_newcase command is also illustrated in the figure below:\n",
    "    \n",
    "---\n",
    "![create_newcase](../../images/create_newcase_syntax.png)\n",
    "*<p style=\"text-align: center;\"> Figure: Syntax for the `create_newcase` command</p>*\n",
    "\n",
    "---\n"
   ]
  },
  {
   "cell_type": "code",
   "execution_count": null,
   "id": "04b2c572-d344-4dda-a159-6cec10cd7e38",
   "metadata": {},
   "outputs": [],
   "source": [
    "The result of the create_newcase command is also illustrated in the figure below:\n",
    "    \n",
    "---\n",
    "![create_newcase](../../images/cesm_structure_after_create_newcase.png)\n",
    "*<p style=\"text-align: center;\"> Figure: After `create_newcase` command</p>*\n",
    "\n",
    "---\n"
   ]
  },
  {
   "cell_type": "markdown",
   "id": "8d297ccb-4228-46fd-a793-6d629d8afd5f",
   "metadata": {},
   "source": [
    "## More advanced information about `create_newcase`:\n",
    "You are not restricted to the pre-defined compsets. You can create your own. \n",
    "- Visit:\n",
    "https://esmci.github.io/cime/versions/master/html/users_guide/compsets.html\n",
    "for documentation on how to create your own. \n",
    "\n",
    "In addition to the CESM web pages, you can find information on available compsets and resolutions using\n",
    "the “query config” tool located in $CESMROOT/cime/scripts e.g.,\n",
    "```\n",
    "./query config --help\n",
    "```\n",
    "will provide you with information on the arguments taken by query config and then e.g.,\n",
    "```\n",
    "./query config --grids\n",
    "```\n",
    "will list all the available grids. You can use this tool to find the arguments you want to provide to\n",
    "`create newcase`."
   ]
  },
  {
   "cell_type": "code",
   "execution_count": null,
   "id": "e8be12be-fdcd-4839-b161-995d230055dd",
   "metadata": {},
   "outputs": [],
   "source": []
  }
 ],
 "metadata": {
  "kernelspec": {
   "display_name": "Python 3 (ipykernel)",
   "language": "python",
   "name": "python3"
  },
  "language_info": {
   "codemirror_mode": {
    "name": "ipython",
    "version": 3
   },
   "file_extension": ".py",
   "mimetype": "text/x-python",
   "name": "python",
   "nbconvert_exporter": "python",
   "pygments_lexer": "ipython3",
   "version": "3.9.12"
  }
 },
 "nbformat": 4,
 "nbformat_minor": 5
}
