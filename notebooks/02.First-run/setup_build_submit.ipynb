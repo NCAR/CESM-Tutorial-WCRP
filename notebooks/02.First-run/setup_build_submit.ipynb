{
 "cells": [
  {
   "cell_type": "markdown",
   "id": "06bee71b-550e-4e63-8657-8c6259567489",
   "metadata": {},
   "source": [
    "# setup, build, submit"
   ]
  },
  {
   "cell_type": "markdown",
   "id": "9adf2198-216e-40c5-b10a-aa94f38e1a31",
   "metadata": {},
   "source": [
    "## The command `case.setup` \n",
    "\n",
    "You now need to navigate to the case directory where `case.setup` is located. In the example shown in Figure 1, you need to go to:\n",
    "```\n",
    "cd ~/cases/case01 \n",
    "```\n",
    "Issuing the `case.setup` command creates more files needed to run the model. \n",
    "\n",
    "![create_newcase](../../images/cesm_structure_after_case.setup.png)\n",
    "*<p style=\"text-align: center;\"> Figure 1: Location of the command `case.setup`</p>*\n"
   ]
  },
  {
   "cell_type": "markdown",
   "id": "44560957-8531-4b55-9ad3-52c33efcf3b0",
   "metadata": {},
   "source": [
    "<hr style=\"border: 1px solid black;\">\n",
    "\n",
    "## The command `case.build` \n",
    "\n",
    "You are now ready to build the model. (EXplain qcmd).... \n",
    "\n",
    "![create_newcase](../../images/cesm_structure_after_case.build.png)\n",
    "*<p style=\"text-align: center;\"> Figure 2: CESM structure after `case.build`</p>*\n"
   ]
  },
  {
   "cell_type": "markdown",
   "id": "29c0e16b-1771-417d-893e-046d2782fa2d",
   "metadata": {},
   "source": [
    "<hr style=\"border: 1px solid black;\">\n",
    "\n",
    "## The command `case.submit` \n",
    " \n",
    "Blabal\n",
    "\n",
    "![create_newcase](../../images/cesm_structure_after_case.submit.png)\n",
    "*<p style=\"text-align: center;\"> Figure 3: CESM structure after `case.build`</p>*\n"
   ]
  },
  {
   "cell_type": "markdown",
   "id": "f10ff348-2fcb-40e5-8354-3b00cc20adb3",
   "metadata": {},
   "source": [
    "<hr style=\"border: 1px solid black;\">\n",
    "\n",
    "## After your run completes\n",
    "\n",
    "Blabal\n",
    "\n",
    "![create_newcase](../../images/cesm_structure_after_case.archive.png)\n",
    "*<p style=\"text-align: center;\"> Figure 4: CESM structure the run completes</p>*\n"
   ]
  }
 ],
 "metadata": {
  "kernelspec": {
   "display_name": "Python 3 (ipykernel)",
   "language": "python",
   "name": "python3"
  },
  "language_info": {
   "codemirror_mode": {
    "name": "ipython",
    "version": 3
   },
   "file_extension": ".py",
   "mimetype": "text/x-python",
   "name": "python",
   "nbconvert_exporter": "python",
   "pygments_lexer": "ipython3",
   "version": "3.9.12"
  }
 },
 "nbformat": 4,
 "nbformat_minor": 5
}
