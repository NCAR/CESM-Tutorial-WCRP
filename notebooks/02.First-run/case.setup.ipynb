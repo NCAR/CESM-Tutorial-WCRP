{
 "cells": [
  {
   "cell_type": "markdown",
   "id": "06bee71b-550e-4e63-8657-8c6259567489",
   "metadata": {},
   "source": [
    "# setup, build, submit"
   ]
  },
  {
   "cell_type": "markdown",
   "id": "9adf2198-216e-40c5-b10a-aa94f38e1a31",
   "metadata": {},
   "source": [
    "## The `case.setup` command\n",
    "\n",
    "The figure below shows you the CESM directory structure before you run the model.\n",
    "\n",
    "---\n",
    "![create_newcase](../../images/cesm_structure_code_and_data.png)\n",
    "*<p style=\"text-align: center;\"> Figure: CESM code and input datasets</p>*\n",
    "\n",
    "---"
   ]
  },
  {
   "cell_type": "markdown",
   "id": "44560957-8531-4b55-9ad3-52c33efcf3b0",
   "metadata": {},
   "source": [
    "## The `case.build` command\n",
    "\n",
    "The figure below shows you the CESM directory structure before you run the model.\n",
    "\n",
    "---\n",
    "![create_newcase](../../images/cesm_structure_code_and_data.png)\n",
    "*<p style=\"text-align: center;\"> Figure: CESM code and input datasets</p>*\n",
    "\n",
    "---"
   ]
  },
  {
   "cell_type": "markdown",
   "id": "29c0e16b-1771-417d-893e-046d2782fa2d",
   "metadata": {},
   "source": [
    "## The `case.submit` command\n",
    "\n",
    "The figure below shows you the CESM directory structure before you run the model.\n",
    "\n",
    "---\n",
    "![create_newcase](../../images/cesm_structure_code_and_data.png)\n",
    "*<p style=\"text-align: center;\"> Figure: CESM code and input datasets</p>*\n",
    "\n",
    "---"
   ]
  },
  {
   "cell_type": "code",
   "execution_count": null,
   "id": "ac8ce9d0-0f4e-4764-97b5-e907d3b4e86f",
   "metadata": {},
   "outputs": [],
   "source": []
  }
 ],
 "metadata": {
  "kernelspec": {
   "display_name": "Python 3 (ipykernel)",
   "language": "python",
   "name": "python3"
  },
  "language_info": {
   "codemirror_mode": {
    "name": "ipython",
    "version": 3
   },
   "file_extension": ".py",
   "mimetype": "text/x-python",
   "name": "python",
   "nbconvert_exporter": "python",
   "pygments_lexer": "ipython3",
   "version": "3.9.12"
  }
 },
 "nbformat": 4,
 "nbformat_minor": 5
}
