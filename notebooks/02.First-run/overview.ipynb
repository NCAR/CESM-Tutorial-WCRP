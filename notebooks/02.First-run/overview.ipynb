{
 "cells": [
  {
   "cell_type": "markdown",
   "id": "f406f992-92bd-4b17-9bd3-b99c5c8abaf3",
   "metadata": {},
   "source": [
    "# Overview"
   ]
  },
  {
   "cell_type": "markdown",
   "id": "c0c604b9-565b-4b87-a18a-20c9e3f688b2",
   "metadata": {},
   "source": [
    "This section introduces you to the basics of running CESM."
   ]
  },
  {
   "cell_type": "markdown",
   "id": "e2c9fb7a-765b-4d62-8808-9a0d3cc41dbf",
   "metadata": {},
   "source": [
    "## Set of commands to run CESM\n",
    "\n",
    "You can run a simple experiment with CESM using only four commands: `create_newcase`, `case.setup`, `case.build`, `case.submit`\n",
    "\n",
    "```\n",
    "# go into scripts directory into the CESM code\n",
    "cd $SRCROOT/cime/scripts\n",
    "\n",
    "# (1) create a new case in the directory “cases” in your home directory\n",
    "./create_newcase --case ~/cases/case01 --compset B1850 --res f09_g17 \n",
    "\n",
    "# go into the case you just created in the last step\n",
    "cd ~/cases/case01/\n",
    "\n",
    "# (2) setup your case\n",
    "./case.setup\n",
    "\n",
    "# (3) build the executable\n",
    "./case.build\n",
    "\n",
    "# (4) submit your run\n",
    "./case.submit\n",
    "```\n",
    "\n"
   ]
  },
  {
   "cell_type": "raw",
   "id": "22a87386-45c5-4db1-b939-08f2b28cf985",
   "metadata": {},
   "source": [
    "# go into scripts directory into the CESM code\n",
    "cd $SRCROOT/cime/scripts\n",
    "\n",
    "# (1) create a new case in the directory “cases” in your home directory\n",
    "./create_newcase --case ~/cases/case01 --compset B1850 --res f09_g17 \n",
    "\n",
    "# go into the case you just created in the last step\n",
    "cd ~/cases/case01/\n",
    "\n",
    "# (2) setup your case\n",
    "./case.setup\n",
    "\n",
    "# (3) build the executable\n",
    "./case.build\n",
    "\n",
    "# (4) submit your run\n",
    "./case.submit"
   ]
  },
  {
   "cell_type": "markdown",
   "id": "12f110b5-14bb-40dd-8b56-5899d409c6a0",
   "metadata": {},
   "source": [
    "To make it faster: we use a cheaper version of the atmospheric model (CAM4) and a \n",
    "lower resolution. All the concepts you learn here will work with the standard model.  "
   ]
  },
  {
   "cell_type": "markdown",
   "id": "7a04a9db-05de-428b-9572-872d8a9f2d7b",
   "metadata": {},
   "source": [
    "# go into scripts directory into the CESM code\n",
    "cd $SRCROOT/cime/scripts\n",
    "\n",
    "# (1) create a new case in the directory “cases” in your home directory                                 \n",
    "./create_newcase --case ~/cases/case01 --compset B1850-tutorial --res f19_g17 \n",
    "\n",
    "# go into the case you just created in the last step\n",
    "cd ~/cases/case01/\n",
    "\n",
    "# (2) setup your case\n",
    "./case.setup\n",
    "\n",
    "# (3) build the executable\n",
    "qcmd -- ./case.build\n",
    "\n",
    "# (4) submit your run\n",
    "./case.submit\n"
   ]
  },
  {
   "cell_type": "markdown",
   "id": "7c54ae6f-3102-4bd4-a88f-af08acd7395f",
   "metadata": {},
   "source": [
    "\n",
    "\n",
    "- You will learn the purpose of each command and how it relates to the CESM directory structure.\n",
    "\n",
    "- In the exercise section, you will run your first CESM experiment\n",
    "\n",
    "\n",
    "You will get an overview of how to navigate the CESM directory structure. As a CESM user, you will need to navigate through five main directories:\n",
    "\n",
    "CESM code directory\n",
    "Input data directory\n",
    "Case directory\n",
    "Build/run directory\n",
    "Archive directory\n",
    "Each of these directories contains various subdirectories. One of the goals of this tutorial is to teach you how to efficiently navigate between these directories.\n"
   ]
  },
  {
   "cell_type": "code",
   "execution_count": null,
   "id": "0bb14099-bf73-41ce-bdbd-e9d245ff8a43",
   "metadata": {},
   "outputs": [],
   "source": []
  }
 ],
 "metadata": {
  "kernelspec": {
   "display_name": "Python 3 (ipykernel)",
   "language": "python",
   "name": "python3"
  },
  "language_info": {
   "codemirror_mode": {
    "name": "ipython",
    "version": 3
   },
   "file_extension": ".py",
   "mimetype": "text/x-python",
   "name": "python",
   "nbconvert_exporter": "python",
   "pygments_lexer": "ipython3",
   "version": "3.9.12"
  }
 },
 "nbformat": 4,
 "nbformat_minor": 5
}
