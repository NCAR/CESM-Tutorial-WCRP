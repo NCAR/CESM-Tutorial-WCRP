{
 "cells": [
  {
   "cell_type": "markdown",
   "metadata": {
    "tags": []
   },
   "source": [
    "# Log on the cloud\n",
    "\n",
    "To log on the cloud, go to: https://wcrp.cesm.cloud\n",
    "\n",
    "And enter your `username` and `password`.\n",
    "\n",
    "\n",
    "![Log on the cloud](../../images/cloud.png)\n",
    "<p style=\"text-align: center;\"> Figure: Log on the cloud: https://wcrp.cesm.cloud </p>"
   ]
  },
  {
   "cell_type": "markdown",
   "metadata": {},
   "source": [
    "## Jupyter hub\n",
    "\n",
    "After you enter your username ad password, you will see a window that looks like this. You have landed on the Jupyter hub. This is where you will do your work \n",
    "\n",
    "![Log on the cloud](../../images/jupyter_hub.png)\n",
    "<p style=\"text-align: center;\"> Figure: View of the Jupyter hub  </p>"
   ]
  },
  {
   "cell_type": "code",
   "execution_count": null,
   "metadata": {},
   "outputs": [],
   "source": []
  }
 ],
 "metadata": {
  "kernelspec": {
   "display_name": "Bash",
   "language": "bash",
   "name": "bash"
  },
  "language_info": {
   "codemirror_mode": "shell",
   "file_extension": ".sh",
   "mimetype": "text/x-sh",
   "name": "bash"
  }
 },
 "nbformat": 4,
 "nbformat_minor": 4
}
