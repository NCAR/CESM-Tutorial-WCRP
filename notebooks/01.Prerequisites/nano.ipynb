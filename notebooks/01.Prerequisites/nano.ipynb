{
 "cells": [
  {
   "cell_type": "markdown",
   "metadata": {
    "tags": []
   },
   "source": [
    "# Nano Text Editor\n",
    "\n",
    "Here's a very brief tutorial on using the **Nano** text editor. \n",
    "\n",
    "Nano is a simple and user-friendly text editor for quick editing tasks in the terminal. If you know other text editor such as vi, you are welcome to use them too.\n",
    "\n",
    "## Opening a File:\n",
    "\n",
    "To open a file with Nano, simply type nano followed by the filename. \n",
    "For example: \n",
    "```\n",
    "nano filename.txt\n",
    "```\n",
    "\n",
    "## Basic Navigation:\n",
    "\n",
    "Use the arrow keys to navigate through the text.\n",
    "- `Ctrl + Y`: Page Up\n",
    "- `Ctrl + V`: Page Down\n",
    "\n",
    "## Editing Text:\n",
    "\n",
    "To start editing, simply type. You can insert, delete, and modify text as needed.\n",
    "\n",
    "## Saving Changes:\n",
    "\n",
    "To save your changes, press `Ctrl + O`, confirm the filename, and press Enter.\n",
    "\n",
    "## Exiting Nano:\n",
    "\n",
    "To exit Nano, press `Ctrl + X`. If you have unsaved changes, Nano will prompt you to save them.\n",
    "\n",
    "## Other Useful Commands:\n",
    "\n",
    "- `Ctrl + G`: Get help.\n",
    "- `Ctrl + K`: Cut (delete) a line.\n",
    "- `Ctrl + U`: Uncut (paste) the cut line.\n",
    "- `Ctrl + C`: Show cursor position.\n",
    "\n"
   ]
  },
  {
   "cell_type": "code",
   "execution_count": null,
   "metadata": {},
   "outputs": [],
   "source": []
  }
 ],
 "metadata": {
  "kernelspec": {
   "display_name": "Bash",
   "language": "bash",
   "name": "bash"
  },
  "language_info": {
   "codemirror_mode": "shell",
   "file_extension": ".sh",
   "mimetype": "text/x-sh",
   "name": "bash"
  }
 },
 "nbformat": 4,
 "nbformat_minor": 4
}
