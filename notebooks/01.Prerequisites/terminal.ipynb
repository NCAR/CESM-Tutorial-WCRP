{
 "cells": [
  {
   "cell_type": "markdown",
   "metadata": {
    "tags": []
   },
   "source": [
    "# Open a terminal\n",
    "\n",
    "After logging into the cloud and landing on the JupyterHub, you can open a terminal.\n",
    "\n",
    "Here's how to proceed: \n",
    "- Look for the **Terminal** link. Click on it to initiate the terminal, as illustrated in Figure 1.\n",
    "- Once you've opened the terminal, it will resemble the example shown in Figure 2.\n",
    "\n",
    "![Open a terminal](../../images/open_terminal.png)\n",
    "<p style=\"text-align: center;\"> Figure 1: Open a terminal </p>"
   ]
  },
  {
   "cell_type": "markdown",
   "metadata": {},
   "source": [
    "\n",
    "\n",
    "![Terminal view](../../images/terminal_view.png)\n",
    "<p style=\"text-align: center;\"> Figure 2: Terminal view </p>"
   ]
  }
 ],
 "metadata": {
  "kernelspec": {
   "display_name": "Python 3",
   "language": "python",
   "name": "python3"
  },
  "language_info": {
   "codemirror_mode": {
    "name": "ipython",
    "version": 3
   },
   "file_extension": ".py",
   "mimetype": "text/x-python",
   "name": "python",
   "nbconvert_exporter": "python",
   "pygments_lexer": "ipython3",
   "version": "3.8.5"
  }
 },
 "nbformat": 4,
 "nbformat_minor": 4
}
