{
 "cells": [
  {
   "cell_type": "markdown",
   "metadata": {
    "tags": []
   },
   "source": [
    "# Using this book\n",
    "\n",
    "This page explains how to navigate through the current tutorial.\n",
    "\n",
    "Take a look at Figure 1 below.\n",
    "- On the left side, you'll find the **table of contents** with various chapters.\n",
    "- When you click on a section in the table of contents, it will display the corresponding **materials** on the right side.\n",
    "- As an example, we've clicked on \"CESM Basics.\" You can see that this section includes several pages of materials and one **exercise**. Please go through the materials at your own pace and then complete the exercise.\n",
    "\n"
   ]
  },
  {
   "cell_type": "markdown",
   "metadata": {},
   "source": [
    "![JupyterBook TOC](../../images/JupyterBook_TOC.png)\n",
    "<p style=\"text-align: center;\"> Figure 1: Table of Contents and Materials </p>"
   ]
  },
  {
   "cell_type": "code",
   "execution_count": null,
   "metadata": {},
   "outputs": [],
   "source": []
  }
 ],
 "metadata": {
  "kernelspec": {
   "display_name": "Bash",
   "language": "bash",
   "name": "bash"
  },
  "language_info": {
   "codemirror_mode": "shell",
   "file_extension": ".sh",
   "mimetype": "text/x-sh",
   "name": "bash"
  }
 },
 "nbformat": 4,
 "nbformat_minor": 4
}
