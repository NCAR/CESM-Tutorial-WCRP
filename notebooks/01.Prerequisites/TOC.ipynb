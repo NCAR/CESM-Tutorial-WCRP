{
 "cells": [
  {
   "cell_type": "markdown",
   "metadata": {
    "tags": []
   },
   "source": [
    "# Using this book\n",
    "\n",
    "This page explain how to use the current tutorial. \n",
    "\n",
    "Look at Figure 1 below. \n",
    "- On the left side, you have the **table of contents** with the different chapters.\n",
    "- When you click on a section of the table of contents, it will bring the correspondant **material** in the right side.\n",
    "- As an example, we clicked on CESM basics. You see that this section includes several pages of materials plus one **exercise**. Go though the materials at your own pace and then do the exercise.\n",
    "\n",
    "\n"
   ]
  },
  {
   "cell_type": "markdown",
   "metadata": {},
   "source": [
    "<div style=\"text-align: center;\">\n",
    "    <div style=\"display: inline-block; border: 1px solid black; padding: 10px;\">\n",
    "        <img src=\"../../images/JupyterBook_TOC.png\" alt=\"JupyterBook TOC\" />    \n",
    "        <p style=\"text-align: center;\">Figure 1: Table of Contents and Materials</p>\n",
    "    </div>\n",
    "</div>"
   ]
  },
  {
   "cell_type": "code",
   "execution_count": null,
   "metadata": {},
   "outputs": [],
   "source": []
  }
 ],
 "metadata": {
  "kernelspec": {
   "display_name": "Bash",
   "language": "bash",
   "name": "bash"
  },
  "language_info": {
   "codemirror_mode": "shell",
   "file_extension": ".sh",
   "mimetype": "text/x-sh",
   "name": "bash"
  }
 },
 "nbformat": 4,
 "nbformat_minor": 4
}
