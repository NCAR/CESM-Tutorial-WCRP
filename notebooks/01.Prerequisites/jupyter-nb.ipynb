{
 "cells": [
  {
   "cell_type": "markdown",
   "metadata": {
    "tags": []
   },
   "source": [
    "# Jupyter Notebooks\n",
    "\n",
    "This section contains basic information about `Jupyter Notebooks` that you will need for this tutorial. \n",
    "\n",
    "A `Notebook` is composed of cells. In this tutorial, you will often hear `run a cell`. \n",
    "\n",
    "To run a cell in a notebook. **Click on the cell and press: `Shift+return`**   \n"
   ]
  },
  {
   "cell_type": "markdown",
   "metadata": {},
   "source": [
    "![Running a cell](../../images/running_cell.png)\n",
    "<p style=\"text-align: center;\"> Figure: Running a cell </p>"
   ]
  },
  {
   "cell_type": "markdown",
   "metadata": {},
   "source": [
    "___\n"
   ]
  },
  {
   "cell_type": "markdown",
   "metadata": {
    "tags": []
   },
   "source": [
    "**Exercise: Practice running a cell**  \n",
    "\n",
    "Practice running the cell below. It means **click on the cell** and then., press **Shift-return**\n",
    "\n",
    "Run the same cell several times. What happens? "
   ]
  },
  {
   "cell_type": "code",
   "execution_count": null,
   "metadata": {},
   "outputs": [],
   "source": [
    "echo 'Wait for 5 seconds'\n",
    "sleep 5"
   ]
  }
 ],
 "metadata": {
  "kernelspec": {
   "display_name": "Bash",
   "language": "bash",
   "name": "bash"
  },
  "language_info": {
   "codemirror_mode": "shell",
   "file_extension": ".sh",
   "mimetype": "text/x-sh",
   "name": "bash"
  }
 },
 "nbformat": 4,
 "nbformat_minor": 4
}
