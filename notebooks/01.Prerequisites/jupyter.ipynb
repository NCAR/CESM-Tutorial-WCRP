{
 "cells": [
  {
   "cell_type": "markdown",
   "metadata": {
    "tags": []
   },
   "source": [
    "# Jupyter Notebooks\n",
    "\n",
    "This section contains basic information about `Jupyter Notebooks` that you will need for this tutorial. \n",
    "\n",
    "## How to run a cell\n",
    "\n",
    "A `Notebook` is composed of cells. In this tutorial, you will often hear `run a cell`. \n",
    "\n",
    "To run a cell in a notebook. **Click on the cell and press: `Shift+return`**.   \n",
    "This is illustrated in Figure 1.\n",
    "<br><br>"
   ]
  },
  {
   "cell_type": "markdown",
   "metadata": {},
   "source": [
    "![Running a cell](../../images/running_cell.png)\n",
    "<p style=\"text-align: center;\"> Figure 1: Running a cell </p>"
   ]
  }
 ],
 "metadata": {
  "kernelspec": {
   "display_name": "Python 3",
   "language": "python",
   "name": "python3"
  },
  "language_info": {
   "codemirror_mode": {
    "name": "ipython",
    "version": 3
   },
   "file_extension": ".py",
   "mimetype": "text/x-python",
   "name": "python",
   "nbconvert_exporter": "python",
   "pygments_lexer": "ipython3",
   "version": "3.8.5"
  }
 },
 "nbformat": 4,
 "nbformat_minor": 4
}
