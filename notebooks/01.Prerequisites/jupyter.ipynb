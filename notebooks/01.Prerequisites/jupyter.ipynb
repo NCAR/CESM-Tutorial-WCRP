{
 "cells": [
  {
   "cell_type": "markdown",
   "metadata": {
    "tags": []
   },
   "source": [
    "# Jupyter Notebooks\n",
    "\n",
    "This section contains basic information about `Jupyter Notebooks` that you will need for this tutorial. \n",
    "\n",
    "A `Notebook` is composed of cells. In this tutorial, you will often hear `run a cell`. \n",
    "\n",
    "To run a cell in a notebook. **Click on the cell and press: `Shift+return`**   \n"
   ]
  },
  {
   "cell_type": "markdown",
   "metadata": {},
   "source": [
    "![Running a cell](../../images/running_cell.png)\n",
    "<p style=\"text-align: center;\"> Figure: Running a cell </p>"
   ]
  },
  {
   "cell_type": "markdown",
   "metadata": {},
   "source": [
    "___\n"
   ]
  },
  {
   "cell_type": "markdown",
   "metadata": {
    "tags": []
   },
   "source": [
    "**Exercise: Practice running a cell**  \n",
    "\n",
    "Practice running the cell below. It means **click on the cell** and then., press **Shift-return**\n",
    "\n",
    "Run the same cell several times. What happens?\n",
    "\n",
    "*Note, this will only work if you have opened up jupyter.ipynb.  It will not work by clicking on the cell on the webpage*"
   ]
  },
  {
   "cell_type": "code",
   "execution_count": null,
   "metadata": {},
   "outputs": [],
   "source": [
    "echo 'Wait for 5 seconds'\n",
    "sleep 5"
   ]
  }
 ],
 "metadata": {
  "kernelspec": {
   "display_name": "Python 3 (ipykernel)",
   "language": "python",
   "name": "python3"
  },
  "language_info": {
   "codemirror_mode": {
    "name": "ipython",
    "version": 3
   },
   "file_extension": ".py",
   "mimetype": "text/x-python",
   "name": "python",
   "nbconvert_exporter": "python",
   "pygments_lexer": "ipython3",
   "version": "3.9.7"
  }
 },
 "nbformat": 4,
 "nbformat_minor": 4
}
