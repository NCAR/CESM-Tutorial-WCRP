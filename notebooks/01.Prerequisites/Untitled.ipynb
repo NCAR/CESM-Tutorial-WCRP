{
 "cells": [
  {
   "cell_type": "code",
   "execution_count": null,
   "id": "afdaaad0-d972-443c-9a74-330156c5b40d",
   "metadata": {},
   "outputs": [],
   "source": []
  }
 ],
 "metadata": {
  "kernelspec": {
   "display_name": "Matlab R2019a",
   "language": "matlab",
   "name": "matlab"
  },
  "language_info": {
   "codemirror_mode": "octave",
   "file_extension": ".m",
   "help_links": [
    {
     "text": "MetaKernel Magics",
     "url": "https://metakernel.readthedocs.io/en/latest/source/README.html"
    }
   ],
   "mimetype": "text/x-octave",
   "name": "matlab",
   "version": "0.16.4"
  }
 },
 "nbformat": 4,
 "nbformat_minor": 5
}
