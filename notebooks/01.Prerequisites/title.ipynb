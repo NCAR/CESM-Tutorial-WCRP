{
 "cells": [
  {
   "cell_type": "markdown",
   "metadata": {
    "tags": []
   },
   "source": [
    "# Prerequisites\n",
    "\n",
    "In this section, you will find information on the following topics:\n",
    "- navigating through the current **CESM tutorial**.\n",
    "- logging on the **cloud**: https://innovators.cesm.cloud  \n",
    "- using **Jupyter notebooks**.\n",
    "- basic **unix** commands.\n",
    "- using a simple text editor called **nano**.\n"
   ]
  },
  {
   "cell_type": "code",
   "execution_count": null,
   "metadata": {},
   "outputs": [],
   "source": []
  }
 ],
 "metadata": {
  "kernelspec": {
   "display_name": "Bash",
   "language": "bash",
   "name": "bash"
  },
  "language_info": {
   "codemirror_mode": "shell",
   "file_extension": ".sh",
   "mimetype": "text/x-sh",
   "name": "bash"
  }
 },
 "nbformat": 4,
 "nbformat_minor": 4
}
