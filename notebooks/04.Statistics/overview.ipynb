{
 "cells": [
  {
   "cell_type": "markdown",
   "id": "f406f992-92bd-4b17-9bd3-b99c5c8abaf3",
   "metadata": {},
   "source": [
    "# Overview"
   ]
  },
  {
   "cell_type": "markdown",
   "id": "c0c604b9-565b-4b87-a18a-20c9e3f688b2",
   "metadata": {},
   "source": [
    "Statistics of the timing of your simulation can be found in the directory “timing” within your case\n",
    "directory.\n",
    "```\n",
    "cd ∼/cases/case01/timing\n",
    "```\n",
    "In the file with the name that starts `cesm timing.case01` you’ll find the following information\n",
    "```\n",
    "Overall Metrics:\n",
    "Model Cost: XXX pe-hrs/simulated year\n",
    "Model Throughput: XXX simulated years/day\n",
    "```\n",
    "where\n",
    "- “Model Cost” is the cost of the simulation in processor element hours. \n",
    "- “Model Throughput” is how many simulated years you can run in one day of real time.\n",
    "\n",
    "Typically you will be running on a system that has a wall clock limit for each submission. For example,\n",
    "the cheyenne system only allows you to run continuously for a maximum of 12 hours. Normally you\n",
    "would want to choose the maximum length of a run that would fit within a 12 hour wall clock limit, while\n",
    "breaking the simulation into reasonably sized chunks e.g., an integer number of years.\n",
    "\n"
   ]
  },
  {
   "cell_type": "code",
   "execution_count": null,
   "id": "4a81fb3d-e124-4dfb-a315-6992fb4fcad6",
   "metadata": {},
   "outputs": [],
   "source": []
  }
 ],
 "metadata": {
  "kernelspec": {
   "display_name": "Python 3 (ipykernel)",
   "language": "python",
   "name": "python3"
  },
  "language_info": {
   "codemirror_mode": {
    "name": "ipython",
    "version": 3
   },
   "file_extension": ".py",
   "mimetype": "text/x-python",
   "name": "python",
   "nbconvert_exporter": "python",
   "pygments_lexer": "ipython3",
   "version": "3.9.12"
  }
 },
 "nbformat": 4,
 "nbformat_minor": 5
}
