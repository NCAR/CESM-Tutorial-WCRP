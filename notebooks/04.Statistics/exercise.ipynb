{
 "cells": [
  {
   "cell_type": "markdown",
   "id": "f406f992-92bd-4b17-9bd3-b99c5c8abaf3",
   "metadata": {},
   "source": [
    "# Exercises"
   ]
  },
  {
   "cell_type": "markdown",
   "id": "b90d4773-7ca0-4131-ab07-517608a3e976",
   "metadata": {},
   "source": [
    "\n",
    "<div class=\"alert alert-info\">\n",
    "    \n",
    "<strong>Exercise: working out the optimum segment length</strong>\n",
    "    \n",
    "Consider a simulation with a **Model Cost**  of 11 simulated years per day. \n",
    "    \n",
    "If you wanted to run a 30 year simulation with each segment being an integer number of years long and you have a 12 hour wall clock limit on your machines queue, what values of `STOP OPTION`, `STOP N` and `RESUBMIT` would you choose to minimize the number of individual re-submissions you would have to make?\n",
    "   \n",
    "Note: for simplicity, let's assume we want each run to have a duration that is a whole number of years.\n",
    "</div>\n"
   ]
  },
  {
   "cell_type": "markdown",
   "id": "65b2cbda-2d54-48ee-898b-4c391f16ca79",
   "metadata": {},
   "source": [
    "\n",
    "<div class=\"alert alert-warning\">  \n",
    "<details>\n",
    "\n",
    "<summary> <font face=\"Times New Roman\" color='blue'>Click here for hints</font> </summary><br>\n",
    "\n",
    "- How to set STOP_N and STOP_OPTION for each submission, given the wallclock limit?\n",
    "\n",
    "- How many times to resubmit the job to reach the 30 years?\n",
    "\n",
    "- The number of total submission = the initial submission + the number of resubmission.\n",
    "    \n",
    "</details>\n",
    "</div>\n"
   ]
  },
  {
   "cell_type": "markdown",
   "id": "7dd602b7-372d-4f36-b6d1-df8e22ba1646",
   "metadata": {},
   "source": [
    "\n",
    "<div class=\"alert alert-success\">   \n",
    "<details>\n",
    "<summary><font face=\"Times New Roman\" color='blue'>Click here for the solution</font></summary><br>\n",
    " \n",
    "Suppose that you are aiming for a 30 year simulation and you find that your model throughput is\n",
    "11 simulated years per day. If you wallclock limit is 12-hour, it means you can run roughly 5.5 years per submission. \n",
    "    \n",
    "However, it’s best to run a little less than what might appear optimum from this run because\n",
    "the exact throughput can vary. Also, it’s best to run an integer number of years, if possible. \n",
    "    \n",
    "You can probably safely run 5 years in a 12 hour wallclock limit. So, you can set `STOP OPTION=nyears`  and `STOP N=5`.\n",
    "    \n",
    "Since you want to run 30 years, that means you need to submit the model 6 times\n",
    "(5x6=30). \n",
    "    \n",
    "As \"the number of total submission = the initial submission + the number of resubmissions\",\n",
    "that means that you need 5 re-submissions after your first one. So you would set\n",
    "`RESUBMIT=5`. \n",
    "    \n",
    "This can be achieved with\n",
    "```\n",
    "./xmlchange STOP OPTION=nyears,STOP N=5,RESUBMIT=5\n",
    "```    \n",
    "\n",
    "\n",
    "</details>\n",
    "</div>\n",
    "\n"
   ]
  },
  {
   "cell_type": "code",
   "execution_count": null,
   "id": "815be0bc-515a-474b-a3dd-b7ba02831b9a",
   "metadata": {},
   "outputs": [],
   "source": []
  }
 ],
 "metadata": {
  "kernelspec": {
   "display_name": "Python 3 (ipykernel)",
   "language": "python",
   "name": "python3"
  },
  "language_info": {
   "codemirror_mode": {
    "name": "ipython",
    "version": 3
   },
   "file_extension": ".py",
   "mimetype": "text/x-python",
   "name": "python",
   "nbconvert_exporter": "python",
   "pygments_lexer": "ipython3",
   "version": "3.9.12"
  }
 },
 "nbformat": 4,
 "nbformat_minor": 5
}
