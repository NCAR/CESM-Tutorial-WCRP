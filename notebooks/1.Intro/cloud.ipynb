{
 "cells": [
  {
   "cell_type": "markdown",
   "metadata": {
    "tags": []
   },
   "source": [
    "# Log on the cloud\n",
    "\n",
    "To log on the cloud, go to: https://innovators.cesm.cloud\n",
    "\n",
    "And enter your `username` and `password`.\n",
    "\n",
    "\n",
    "![Innovators cloud](../../images/cloud.png)\n",
    "<p style=\"text-align: center;\"> Figure: Log on the cloud: https://innovators.cesm.cloud </p>"
   ]
  },
  {
   "cell_type": "code",
   "execution_count": null,
   "metadata": {},
   "outputs": [],
   "source": []
  }
 ],
 "metadata": {
  "kernelspec": {
   "display_name": "Bash",
   "language": "bash",
   "name": "bash"
  },
  "language_info": {
   "codemirror_mode": "shell",
   "file_extension": ".sh",
   "mimetype": "text/x-sh",
   "name": "bash"
  }
 },
 "nbformat": 4,
 "nbformat_minor": 4
}
