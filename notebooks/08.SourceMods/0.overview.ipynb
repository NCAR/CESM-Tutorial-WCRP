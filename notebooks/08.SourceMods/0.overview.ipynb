{
 "cells": [
  {
   "cell_type": "raw",
   "id": "23a022b7-ce37-4562-9aca-e37ac0ecd970",
   "metadata": {},
   "source": [
    "# Code Modifications"
   ]
  },
  {
   "cell_type": "markdown",
   "id": "c0c604b9-565b-4b87-a18a-20c9e3f688b2",
   "metadata": {},
   "source": [
    "Include overview of the section"
   ]
  },
  {
   "cell_type": "code",
   "execution_count": null,
   "id": "4a81fb3d-e124-4dfb-a315-6992fb4fcad6",
   "metadata": {},
   "outputs": [],
   "source": []
  }
 ],
 "metadata": {
  "kernelspec": {
   "display_name": "Python 3 (ipykernel)",
   "language": "python",
   "name": "python3"
  },
  "language_info": {
   "codemirror_mode": {
    "name": "ipython",
    "version": 3
   },
   "file_extension": ".py",
   "mimetype": "text/x-python",
   "name": "python",
   "nbconvert_exporter": "python",
   "pygments_lexer": "ipython3",
   "version": "3.9.12"
  }
 },
 "nbformat": 4,
 "nbformat_minor": 5
}
