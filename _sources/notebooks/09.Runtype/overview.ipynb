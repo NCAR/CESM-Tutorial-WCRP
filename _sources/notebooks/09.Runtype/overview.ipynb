{
 "cells": [
  {
   "cell_type": "markdown",
   "id": "eight-wilson",
   "metadata": {},
   "source": [
    "# Overview"
   ]
  },
  {
   "cell_type": "markdown",
   "id": "needed-active",
   "metadata": {},
   "source": [
    "There are three ways in which you can start a simulation with CESM. Which way you use is determined\n",
    "by the xml variable `RUN_TYPE` in env run.xml. The three options are `startup`,`branch` and `hybrid`.\n",
    "\n",
    "These have the following characteristics:\n",
    "- **startup**: all components are initialized using pre-defined baseline states that have been provided with CESM. So far we have only used this type of initialization\n",
    "- **branch**: all components are initialized using the complete set of restart files from a previous run. \n",
    "    - The run continues on from the date that you restart from, so you can’t change the start date with a branch run. \n",
    "    - The advantage of a branch run over the hybrid run is that it reproduces exactly (bit-for-bit) the solution that would be obtained if the original simulation that is used for the initialization were simply continued (provided no other changes have been made to the model). \n",
    "    - This type of run is useful if you would like to change the output variables part way through a simulation. \n",
    "\n",
    "- **hybrid**: the simulation is initialized in a manner similar to a startup run, but instead of using the default initialization datasets, the initialization datasets are specified by the user, for example, they may be obtained from a previously performed simulation. \n",
    "    - Unlike for a branch run, the start date can be modified by the user and this method of initialization does not result in bit-for-bit similarity with the run that it is initialized from.\n",
    "    - This type of run is useful when you want to use a spunup, for instance if you want to start a 20th century after a long pre-industrial control \n",
    "\n",
    "\n",
    "You specify the name of the previous run you want to start from and the date you want to start\n",
    "from with the xml variables `RUN_REFCASE` and `RUN_REFDATE` and you can also specify the directory that contains the restarts with `RUN_REFDIR`. \n",
    "\n",
    "**Examples**\n",
    "\n",
    "For instance, the command to change RUN_TYPE to hybrid is: \n",
    "```\n",
    "./xmlchange RUN_TYPE=hybrid\n",
    "```\n",
    "If you do this, you also need to change the reference case and the reference date. For instance if the reference is `case01` and the reference year is `0100-01-01` is can be done with:\n",
    "```\n",
    "./xmlchange RUN_REFCASE=case01\n",
    "./xmlchange RUN_REFDATE=0100-01-01\n",
    "```"
   ]
  },
  {
   "cell_type": "markdown",
   "id": "sublime-rings",
   "metadata": {},
   "source": [
    "<hr style=\"border: 1px solid black;\">\n",
    "\n",
    "## Characteristics of different `RUN_TYPE`\n",
    "\n",
    "The characteristics of the different runtypes (startup, branch or hybrid) are illustrated in Figure 1. \n"
   ]
  },
  {
   "cell_type": "markdown",
   "id": "broad-baseline",
   "metadata": {},
   "source": [
    "\n",
    "\n",
    "![Runtype Characteristics](../../images/runtype_characteristics.png )\n",
    "\n",
    "*<p style=\"text-align: center;\"> Figure 1: `RUN_TYPE` Characteristics. </p>*"
   ]
  },
  {
   "cell_type": "markdown",
   "id": "confident-blowing",
   "metadata": {},
   "source": [
    "Depending on the runtype, you need to set other xml variables. \n",
    "\n",
    "As explained above, the variable `RUN_TYPE` determines the initialization type. \n",
    "This setting is only important for the **initial** run of a production run when the `CONTINUE_RUN` variable is set to `FALSE`. After the initial run, the `CONTINUE_RUN` variable is set to `TRUE`, and the model restarts from the restarts and ignore the variable `RUN_TYPE`. \n",
    "\n",
    "If the run is targeted to be a `hybrid` or `branch` run, \n",
    "- you must also specify values for `RUN_REFCASE` and `RUN_REFDATE` \n",
    "- and if the restarts are located in a directory other than your run directory, you should also specify `RUN_REFDIR` to point to that location and set `GET_REFCASE=TRUE` to ensure the model obtains the restarts from that directory. \n",
    "\n",
    "\n",
    "The variable `RUN_STARTDATE` is the **start date** (in yyyy-mm-dd format) for either a `startup` or `hybrid` run. In a `branch` run, this variable is ignored. \n"
   ]
  },
  {
   "cell_type": "code",
   "execution_count": null,
   "id": "beneficial-separation",
   "metadata": {},
   "outputs": [],
   "source": []
  }
 ],
 "metadata": {
  "kernelspec": {
   "display_name": "Python 3",
   "language": "python",
   "name": "python3"
  },
  "language_info": {
   "codemirror_mode": {
    "name": "ipython",
    "version": 3
   },
   "file_extension": ".py",
   "mimetype": "text/x-python",
   "name": "python",
   "nbconvert_exporter": "python",
   "pygments_lexer": "ipython3",
   "version": "3.8.5"
  }
 },
 "nbformat": 4,
 "nbformat_minor": 5
}
